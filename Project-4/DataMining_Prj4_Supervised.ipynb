{
  "nbformat": 4,
  "nbformat_minor": 0,
  "metadata": {
    "colab": {
      "provenance": [],
      "toc_visible": true,
      "collapsed_sections": [
        "zPc-U_ttdXZq",
        "Fk6lnGJyeoE6",
        "u8qRHBEIfQBB"
      ]
    },
    "kernelspec": {
      "name": "python3",
      "display_name": "Python 3"
    },
    "language_info": {
      "name": "python"
    }
  },
  "cells": [
    {
      "cell_type": "markdown",
      "source": [
        "# 📖 Resources:\n",
        "## For Random Forest\n",
        "- https://machinelearningmastery.com/bagging-and-random-forest-for-imbalanced-classification/\n",
        "- https://medium.com/sfu-cspmp/surviving-in-a-random-forest-with-imbalanced-datasets-b98b963d52eb\n",
        "- https://stats.stackexchange.com/questions/242833/is-random-forest-a-good-option-for-unbalanced-data-classification\n",
        "\n",
        "## For XGBoost\n",
        "- https://forecastegy.com/posts/xgboost-imbalanced-data-scale_pos_weight-python/\n",
        "- https://machinelearningmastery.com/xgboost-for-imbalanced-classification/\n",
        "-"
      ],
      "metadata": {
        "id": "_xckC2tebe-U"
      }
    },
    {
      "cell_type": "markdown",
      "source": [
        "# 🔽 Installing & Importing"
      ],
      "metadata": {
        "id": "9EUZG3d7dSwW"
      }
    },
    {
      "cell_type": "code",
      "source": [
        "!pip install graphtools"
      ],
      "metadata": {
        "colab": {
          "base_uri": "https://localhost:8080/"
        },
        "id": "axL00LoSfxVg",
        "outputId": "c6872c27-62ed-4125-904e-403d1104b174"
      },
      "execution_count": null,
      "outputs": [
        {
          "output_type": "stream",
          "name": "stdout",
          "text": [
            "Requirement already satisfied: graphtools in /usr/local/lib/python3.10/dist-packages (1.5.3)\n",
            "Requirement already satisfied: numpy>=1.14.0 in /usr/local/lib/python3.10/dist-packages (from graphtools) (1.23.5)\n",
            "Requirement already satisfied: scipy>=1.1.0 in /usr/local/lib/python3.10/dist-packages (from graphtools) (1.11.4)\n",
            "Requirement already satisfied: pygsp>=0.5.1 in /usr/local/lib/python3.10/dist-packages (from graphtools) (0.5.1)\n",
            "Requirement already satisfied: scikit-learn>=0.20.0 in /usr/local/lib/python3.10/dist-packages (from graphtools) (1.2.2)\n",
            "Requirement already satisfied: future in /usr/local/lib/python3.10/dist-packages (from graphtools) (0.18.3)\n",
            "Requirement already satisfied: tasklogger>=1.0 in /usr/local/lib/python3.10/dist-packages (from graphtools) (1.2.0)\n",
            "Requirement already satisfied: Deprecated in /usr/local/lib/python3.10/dist-packages (from graphtools) (1.2.14)\n",
            "Requirement already satisfied: joblib>=1.1.1 in /usr/local/lib/python3.10/dist-packages (from scikit-learn>=0.20.0->graphtools) (1.3.2)\n",
            "Requirement already satisfied: threadpoolctl>=2.0.0 in /usr/local/lib/python3.10/dist-packages (from scikit-learn>=0.20.0->graphtools) (3.2.0)\n",
            "Requirement already satisfied: wrapt<2,>=1.10 in /usr/local/lib/python3.10/dist-packages (from Deprecated->graphtools) (1.14.1)\n"
          ]
        }
      ]
    },
    {
      "cell_type": "code",
      "execution_count": null,
      "metadata": {
        "id": "l0AEcXIgbFjy"
      },
      "outputs": [],
      "source": [
        "import matplotlib.pyplot as plt\n",
        "from sklearn.preprocessing import StandardScaler\n",
        "from statistics import mean\n",
        "from matplotlib import pyplot\n",
        "from sklearn.model_selection import train_test_split\n",
        "from sklearn.model_selection import cross_validate\n",
        "from sklearn.model_selection import RepeatedStratifiedKFold\n",
        "from sklearn.metrics import confusion_matrix, ConfusionMatrixDisplay, roc_auc_score, accuracy_score, precision_score, recall_score, f1_score\n",
        "import pandas as pd\n",
        "from sklearn.ensemble import RandomForestClassifier\n",
        "from imblearn.ensemble import BalancedRandomForestClassifier\n",
        "from imblearn.over_sampling import SMOTE\n",
        "from sklearn.decomposition import PCA\n",
        "from sklearn.cluster import DBSCAN\n",
        "import graphtools as gt # for DBCV metric\n",
        "from xgboost import XGBClassifier\n",
        "from collections import Counter\n"
      ]
    },
    {
      "cell_type": "markdown",
      "source": [
        "# 🗻 Mounting Google"
      ],
      "metadata": {
        "id": "zPc-U_ttdXZq"
      }
    },
    {
      "cell_type": "code",
      "source": [
        "from google.colab import drive\n",
        "drive.mount('/content/drive')"
      ],
      "metadata": {
        "colab": {
          "base_uri": "https://localhost:8080/"
        },
        "id": "do5HdeuZbnlS",
        "outputId": "36482932-77f4-4b04-b061-4209b6297f93"
      },
      "execution_count": null,
      "outputs": [
        {
          "output_type": "stream",
          "name": "stdout",
          "text": [
            "Drive already mounted at /content/drive; to attempt to forcibly remount, call drive.mount(\"/content/drive\", force_remount=True).\n"
          ]
        }
      ]
    },
    {
      "cell_type": "code",
      "source": [
        "path = \"/content/drive/MyDrive/DataMining-Prj4/\""
      ],
      "metadata": {
        "id": "xZwBbFaabqKv"
      },
      "execution_count": null,
      "outputs": []
    },
    {
      "cell_type": "markdown",
      "source": [
        "# 📝 Read CSV File"
      ],
      "metadata": {
        "id": "Fk6lnGJyeoE6"
      }
    },
    {
      "cell_type": "code",
      "source": [
        "df = pd.read_csv(path + 'Dataset.csv')"
      ],
      "metadata": {
        "id": "EOyTS5qFethq"
      },
      "execution_count": null,
      "outputs": []
    },
    {
      "cell_type": "code",
      "source": [
        "# Separate the features and the label\n",
        "X = df.iloc[:, 1:-1] # all columns except the first and the last\n",
        "y = df.iloc[:, -1] # the last column"
      ],
      "metadata": {
        "id": "TPJRj6RNe3gB"
      },
      "execution_count": null,
      "outputs": []
    },
    {
      "cell_type": "markdown",
      "source": [
        "# ⛅ Pre-processing"
      ],
      "metadata": {
        "id": "u8qRHBEIfQBB"
      }
    },
    {
      "cell_type": "code",
      "source": [
        "# Create a StandardScaler object\n",
        "scaler = StandardScaler()\n",
        "\n",
        "# Fit and transform the features\n",
        "X_scaled = scaler.fit_transform(X)\n",
        "\n",
        "# Convert the scaled features to a DataFrame\n",
        "X_scaled_df = pd.DataFrame(X_scaled, columns=X.columns)\n",
        "\n",
        "# Optionally, you can concatenate the scaled features with the label\n",
        "df_scaled = pd.concat([X_scaled_df, y], axis=1)"
      ],
      "metadata": {
        "id": "xRJv89IgfSVa"
      },
      "execution_count": null,
      "outputs": []
    },
    {
      "cell_type": "code",
      "source": [
        "df_scaled"
      ],
      "metadata": {
        "colab": {
          "base_uri": "https://localhost:8080/",
          "height": 461
        },
        "id": "C4CILAfgflUp",
        "outputId": "2974f297-4c35-47e4-ee6d-aef86806725e"
      },
      "execution_count": null,
      "outputs": [
        {
          "output_type": "execute_result",
          "data": {
            "text/plain": [
              "        FEATURE1  FEATURE2  FEATURE3  FEATURE4  FEATURE5  FEATURE6  FEATURE7  \\\n",
              "0       1.890394 -0.073243  0.034108  0.083643 -0.026884 -0.220402  0.377566   \n",
              "1       0.276236 -0.073243  0.034108  0.083643 -0.026884 -0.220402  0.225989   \n",
              "2      -0.414624 -0.073243 -0.373516 -0.469795 -0.388578 -0.220402 -0.683473   \n",
              "3      -0.411396 -0.073243  0.034108  0.083643 -0.026884 -0.220402 -0.607684   \n",
              "4      -0.366199 -0.073243 -0.373516 -0.469795 -0.388578 -0.220402 -0.228742   \n",
              "...          ...       ...       ...       ...       ...       ...       ...   \n",
              "298169 -0.104706 -0.073243 -0.373516 -0.469795 -0.388578 -0.220402 -0.304530   \n",
              "298170 -0.375884 -0.073243  0.034108  0.083643 -0.026884 -0.220402  0.225989   \n",
              "298171 -0.069194  0.030225 -0.373516 -0.469795 -0.388578 -0.220402 -0.456107   \n",
              "298172 -0.111162 -0.073243 -0.373516 -0.469795 -0.388578 -0.220402 -0.607684   \n",
              "298173 -0.356515 -0.073243 -0.373516 -0.469795 -0.388578 -0.220402  0.680720   \n",
              "\n",
              "        FEATURE8  FEATURE9  FEATURE10  ...  FEATURE73  FEATURE74  FEATURE75  \\\n",
              "0      -0.329883  0.270676   0.240670  ...   0.210221   1.050469   1.374710   \n",
              "1      -0.329883 -0.214907   1.014424  ...   0.043259   0.102175  -0.293301   \n",
              "2      -0.329883 -0.603372  -0.533084  ...  -0.282715  -0.378130  -0.501803   \n",
              "3      -0.329883 -0.506256  -0.533084  ...   1.665176   3.033266  -0.501803   \n",
              "4      -0.329883 -0.506256   0.756506  ...  -0.266814  -0.378130  -0.501803   \n",
              "...          ...       ...        ...  ...        ...        ...        ...   \n",
              "298169 -0.329883 -0.506256   0.240670  ...  -0.179357  -0.230344  -0.501803   \n",
              "298170  1.625557  0.270676  -0.533084  ...  -0.258863  -0.365814  -0.501803   \n",
              "298171 -0.329883 -0.506256  -0.275166  ...  -0.052148  -0.094873  -0.501803   \n",
              "298172 -0.329883 -0.603372  -0.533084  ...   0.027358  -0.045611  -0.501803   \n",
              "298173 -0.329883  1.144724  -0.533084  ...  -0.250912  -0.279606  -0.501803   \n",
              "\n",
              "        FEATURE76  FEATURE77  FEATURE78  FEATURE79  FEATURE80  FEATURE81  \\\n",
              "0       -0.296158  -0.034001   0.157306   0.155906  -0.064600   2.644636   \n",
              "1        0.668268  -0.034002  -0.878345  -0.160573  -0.495036  -0.438186   \n",
              "2       -0.296158  -0.034003  -0.878345  -0.473329  -0.542862  -0.438186   \n",
              "3       -0.296158  -0.034003  -0.878345  -0.719066  -1.068951  -0.706258   \n",
              "4       -0.296158  -0.034003   0.157306  -0.596198  -0.542862  -0.572222   \n",
              "...           ...        ...        ...        ...        ...        ...   \n",
              "298169  -0.296158  -0.034003   0.157306  -0.541590  -0.542862  -0.438186   \n",
              "298170  -0.296158  -0.034003  -0.878345   0.018145  -0.542862  -0.304151   \n",
              "298171  -0.296158  -0.034003   1.192957  -0.511135  -0.542862  -0.572222   \n",
              "298172  -0.296158  -0.034003   0.157306  -0.489712  -0.542862  -0.036079   \n",
              "298173  -0.296158  -0.034003  -0.878345   1.738304  -0.542862  -0.036079   \n",
              "\n",
              "        Class Label  \n",
              "0                 0  \n",
              "1                 0  \n",
              "2                 0  \n",
              "3                 0  \n",
              "4                 0  \n",
              "...             ...  \n",
              "298169            0  \n",
              "298170            0  \n",
              "298171            0  \n",
              "298172            0  \n",
              "298173            0  \n",
              "\n",
              "[298174 rows x 82 columns]"
            ],
            "text/html": [
              "\n",
              "  <div id=\"df-eff04781-57a6-4f71-a80c-00f63ec3ed94\" class=\"colab-df-container\">\n",
              "    <div>\n",
              "<style scoped>\n",
              "    .dataframe tbody tr th:only-of-type {\n",
              "        vertical-align: middle;\n",
              "    }\n",
              "\n",
              "    .dataframe tbody tr th {\n",
              "        vertical-align: top;\n",
              "    }\n",
              "\n",
              "    .dataframe thead th {\n",
              "        text-align: right;\n",
              "    }\n",
              "</style>\n",
              "<table border=\"1\" class=\"dataframe\">\n",
              "  <thead>\n",
              "    <tr style=\"text-align: right;\">\n",
              "      <th></th>\n",
              "      <th>FEATURE1</th>\n",
              "      <th>FEATURE2</th>\n",
              "      <th>FEATURE3</th>\n",
              "      <th>FEATURE4</th>\n",
              "      <th>FEATURE5</th>\n",
              "      <th>FEATURE6</th>\n",
              "      <th>FEATURE7</th>\n",
              "      <th>FEATURE8</th>\n",
              "      <th>FEATURE9</th>\n",
              "      <th>FEATURE10</th>\n",
              "      <th>...</th>\n",
              "      <th>FEATURE73</th>\n",
              "      <th>FEATURE74</th>\n",
              "      <th>FEATURE75</th>\n",
              "      <th>FEATURE76</th>\n",
              "      <th>FEATURE77</th>\n",
              "      <th>FEATURE78</th>\n",
              "      <th>FEATURE79</th>\n",
              "      <th>FEATURE80</th>\n",
              "      <th>FEATURE81</th>\n",
              "      <th>Class Label</th>\n",
              "    </tr>\n",
              "  </thead>\n",
              "  <tbody>\n",
              "    <tr>\n",
              "      <th>0</th>\n",
              "      <td>1.890394</td>\n",
              "      <td>-0.073243</td>\n",
              "      <td>0.034108</td>\n",
              "      <td>0.083643</td>\n",
              "      <td>-0.026884</td>\n",
              "      <td>-0.220402</td>\n",
              "      <td>0.377566</td>\n",
              "      <td>-0.329883</td>\n",
              "      <td>0.270676</td>\n",
              "      <td>0.240670</td>\n",
              "      <td>...</td>\n",
              "      <td>0.210221</td>\n",
              "      <td>1.050469</td>\n",
              "      <td>1.374710</td>\n",
              "      <td>-0.296158</td>\n",
              "      <td>-0.034001</td>\n",
              "      <td>0.157306</td>\n",
              "      <td>0.155906</td>\n",
              "      <td>-0.064600</td>\n",
              "      <td>2.644636</td>\n",
              "      <td>0</td>\n",
              "    </tr>\n",
              "    <tr>\n",
              "      <th>1</th>\n",
              "      <td>0.276236</td>\n",
              "      <td>-0.073243</td>\n",
              "      <td>0.034108</td>\n",
              "      <td>0.083643</td>\n",
              "      <td>-0.026884</td>\n",
              "      <td>-0.220402</td>\n",
              "      <td>0.225989</td>\n",
              "      <td>-0.329883</td>\n",
              "      <td>-0.214907</td>\n",
              "      <td>1.014424</td>\n",
              "      <td>...</td>\n",
              "      <td>0.043259</td>\n",
              "      <td>0.102175</td>\n",
              "      <td>-0.293301</td>\n",
              "      <td>0.668268</td>\n",
              "      <td>-0.034002</td>\n",
              "      <td>-0.878345</td>\n",
              "      <td>-0.160573</td>\n",
              "      <td>-0.495036</td>\n",
              "      <td>-0.438186</td>\n",
              "      <td>0</td>\n",
              "    </tr>\n",
              "    <tr>\n",
              "      <th>2</th>\n",
              "      <td>-0.414624</td>\n",
              "      <td>-0.073243</td>\n",
              "      <td>-0.373516</td>\n",
              "      <td>-0.469795</td>\n",
              "      <td>-0.388578</td>\n",
              "      <td>-0.220402</td>\n",
              "      <td>-0.683473</td>\n",
              "      <td>-0.329883</td>\n",
              "      <td>-0.603372</td>\n",
              "      <td>-0.533084</td>\n",
              "      <td>...</td>\n",
              "      <td>-0.282715</td>\n",
              "      <td>-0.378130</td>\n",
              "      <td>-0.501803</td>\n",
              "      <td>-0.296158</td>\n",
              "      <td>-0.034003</td>\n",
              "      <td>-0.878345</td>\n",
              "      <td>-0.473329</td>\n",
              "      <td>-0.542862</td>\n",
              "      <td>-0.438186</td>\n",
              "      <td>0</td>\n",
              "    </tr>\n",
              "    <tr>\n",
              "      <th>3</th>\n",
              "      <td>-0.411396</td>\n",
              "      <td>-0.073243</td>\n",
              "      <td>0.034108</td>\n",
              "      <td>0.083643</td>\n",
              "      <td>-0.026884</td>\n",
              "      <td>-0.220402</td>\n",
              "      <td>-0.607684</td>\n",
              "      <td>-0.329883</td>\n",
              "      <td>-0.506256</td>\n",
              "      <td>-0.533084</td>\n",
              "      <td>...</td>\n",
              "      <td>1.665176</td>\n",
              "      <td>3.033266</td>\n",
              "      <td>-0.501803</td>\n",
              "      <td>-0.296158</td>\n",
              "      <td>-0.034003</td>\n",
              "      <td>-0.878345</td>\n",
              "      <td>-0.719066</td>\n",
              "      <td>-1.068951</td>\n",
              "      <td>-0.706258</td>\n",
              "      <td>0</td>\n",
              "    </tr>\n",
              "    <tr>\n",
              "      <th>4</th>\n",
              "      <td>-0.366199</td>\n",
              "      <td>-0.073243</td>\n",
              "      <td>-0.373516</td>\n",
              "      <td>-0.469795</td>\n",
              "      <td>-0.388578</td>\n",
              "      <td>-0.220402</td>\n",
              "      <td>-0.228742</td>\n",
              "      <td>-0.329883</td>\n",
              "      <td>-0.506256</td>\n",
              "      <td>0.756506</td>\n",
              "      <td>...</td>\n",
              "      <td>-0.266814</td>\n",
              "      <td>-0.378130</td>\n",
              "      <td>-0.501803</td>\n",
              "      <td>-0.296158</td>\n",
              "      <td>-0.034003</td>\n",
              "      <td>0.157306</td>\n",
              "      <td>-0.596198</td>\n",
              "      <td>-0.542862</td>\n",
              "      <td>-0.572222</td>\n",
              "      <td>0</td>\n",
              "    </tr>\n",
              "    <tr>\n",
              "      <th>...</th>\n",
              "      <td>...</td>\n",
              "      <td>...</td>\n",
              "      <td>...</td>\n",
              "      <td>...</td>\n",
              "      <td>...</td>\n",
              "      <td>...</td>\n",
              "      <td>...</td>\n",
              "      <td>...</td>\n",
              "      <td>...</td>\n",
              "      <td>...</td>\n",
              "      <td>...</td>\n",
              "      <td>...</td>\n",
              "      <td>...</td>\n",
              "      <td>...</td>\n",
              "      <td>...</td>\n",
              "      <td>...</td>\n",
              "      <td>...</td>\n",
              "      <td>...</td>\n",
              "      <td>...</td>\n",
              "      <td>...</td>\n",
              "      <td>...</td>\n",
              "    </tr>\n",
              "    <tr>\n",
              "      <th>298169</th>\n",
              "      <td>-0.104706</td>\n",
              "      <td>-0.073243</td>\n",
              "      <td>-0.373516</td>\n",
              "      <td>-0.469795</td>\n",
              "      <td>-0.388578</td>\n",
              "      <td>-0.220402</td>\n",
              "      <td>-0.304530</td>\n",
              "      <td>-0.329883</td>\n",
              "      <td>-0.506256</td>\n",
              "      <td>0.240670</td>\n",
              "      <td>...</td>\n",
              "      <td>-0.179357</td>\n",
              "      <td>-0.230344</td>\n",
              "      <td>-0.501803</td>\n",
              "      <td>-0.296158</td>\n",
              "      <td>-0.034003</td>\n",
              "      <td>0.157306</td>\n",
              "      <td>-0.541590</td>\n",
              "      <td>-0.542862</td>\n",
              "      <td>-0.438186</td>\n",
              "      <td>0</td>\n",
              "    </tr>\n",
              "    <tr>\n",
              "      <th>298170</th>\n",
              "      <td>-0.375884</td>\n",
              "      <td>-0.073243</td>\n",
              "      <td>0.034108</td>\n",
              "      <td>0.083643</td>\n",
              "      <td>-0.026884</td>\n",
              "      <td>-0.220402</td>\n",
              "      <td>0.225989</td>\n",
              "      <td>1.625557</td>\n",
              "      <td>0.270676</td>\n",
              "      <td>-0.533084</td>\n",
              "      <td>...</td>\n",
              "      <td>-0.258863</td>\n",
              "      <td>-0.365814</td>\n",
              "      <td>-0.501803</td>\n",
              "      <td>-0.296158</td>\n",
              "      <td>-0.034003</td>\n",
              "      <td>-0.878345</td>\n",
              "      <td>0.018145</td>\n",
              "      <td>-0.542862</td>\n",
              "      <td>-0.304151</td>\n",
              "      <td>0</td>\n",
              "    </tr>\n",
              "    <tr>\n",
              "      <th>298171</th>\n",
              "      <td>-0.069194</td>\n",
              "      <td>0.030225</td>\n",
              "      <td>-0.373516</td>\n",
              "      <td>-0.469795</td>\n",
              "      <td>-0.388578</td>\n",
              "      <td>-0.220402</td>\n",
              "      <td>-0.456107</td>\n",
              "      <td>-0.329883</td>\n",
              "      <td>-0.506256</td>\n",
              "      <td>-0.275166</td>\n",
              "      <td>...</td>\n",
              "      <td>-0.052148</td>\n",
              "      <td>-0.094873</td>\n",
              "      <td>-0.501803</td>\n",
              "      <td>-0.296158</td>\n",
              "      <td>-0.034003</td>\n",
              "      <td>1.192957</td>\n",
              "      <td>-0.511135</td>\n",
              "      <td>-0.542862</td>\n",
              "      <td>-0.572222</td>\n",
              "      <td>0</td>\n",
              "    </tr>\n",
              "    <tr>\n",
              "      <th>298172</th>\n",
              "      <td>-0.111162</td>\n",
              "      <td>-0.073243</td>\n",
              "      <td>-0.373516</td>\n",
              "      <td>-0.469795</td>\n",
              "      <td>-0.388578</td>\n",
              "      <td>-0.220402</td>\n",
              "      <td>-0.607684</td>\n",
              "      <td>-0.329883</td>\n",
              "      <td>-0.603372</td>\n",
              "      <td>-0.533084</td>\n",
              "      <td>...</td>\n",
              "      <td>0.027358</td>\n",
              "      <td>-0.045611</td>\n",
              "      <td>-0.501803</td>\n",
              "      <td>-0.296158</td>\n",
              "      <td>-0.034003</td>\n",
              "      <td>0.157306</td>\n",
              "      <td>-0.489712</td>\n",
              "      <td>-0.542862</td>\n",
              "      <td>-0.036079</td>\n",
              "      <td>0</td>\n",
              "    </tr>\n",
              "    <tr>\n",
              "      <th>298173</th>\n",
              "      <td>-0.356515</td>\n",
              "      <td>-0.073243</td>\n",
              "      <td>-0.373516</td>\n",
              "      <td>-0.469795</td>\n",
              "      <td>-0.388578</td>\n",
              "      <td>-0.220402</td>\n",
              "      <td>0.680720</td>\n",
              "      <td>-0.329883</td>\n",
              "      <td>1.144724</td>\n",
              "      <td>-0.533084</td>\n",
              "      <td>...</td>\n",
              "      <td>-0.250912</td>\n",
              "      <td>-0.279606</td>\n",
              "      <td>-0.501803</td>\n",
              "      <td>-0.296158</td>\n",
              "      <td>-0.034003</td>\n",
              "      <td>-0.878345</td>\n",
              "      <td>1.738304</td>\n",
              "      <td>-0.542862</td>\n",
              "      <td>-0.036079</td>\n",
              "      <td>0</td>\n",
              "    </tr>\n",
              "  </tbody>\n",
              "</table>\n",
              "<p>298174 rows × 82 columns</p>\n",
              "</div>\n",
              "    <div class=\"colab-df-buttons\">\n",
              "\n",
              "  <div class=\"colab-df-container\">\n",
              "    <button class=\"colab-df-convert\" onclick=\"convertToInteractive('df-eff04781-57a6-4f71-a80c-00f63ec3ed94')\"\n",
              "            title=\"Convert this dataframe to an interactive table.\"\n",
              "            style=\"display:none;\">\n",
              "\n",
              "  <svg xmlns=\"http://www.w3.org/2000/svg\" height=\"24px\" viewBox=\"0 -960 960 960\">\n",
              "    <path d=\"M120-120v-720h720v720H120Zm60-500h600v-160H180v160Zm220 220h160v-160H400v160Zm0 220h160v-160H400v160ZM180-400h160v-160H180v160Zm440 0h160v-160H620v160ZM180-180h160v-160H180v160Zm440 0h160v-160H620v160Z\"/>\n",
              "  </svg>\n",
              "    </button>\n",
              "\n",
              "  <style>\n",
              "    .colab-df-container {\n",
              "      display:flex;\n",
              "      gap: 12px;\n",
              "    }\n",
              "\n",
              "    .colab-df-convert {\n",
              "      background-color: #E8F0FE;\n",
              "      border: none;\n",
              "      border-radius: 50%;\n",
              "      cursor: pointer;\n",
              "      display: none;\n",
              "      fill: #1967D2;\n",
              "      height: 32px;\n",
              "      padding: 0 0 0 0;\n",
              "      width: 32px;\n",
              "    }\n",
              "\n",
              "    .colab-df-convert:hover {\n",
              "      background-color: #E2EBFA;\n",
              "      box-shadow: 0px 1px 2px rgba(60, 64, 67, 0.3), 0px 1px 3px 1px rgba(60, 64, 67, 0.15);\n",
              "      fill: #174EA6;\n",
              "    }\n",
              "\n",
              "    .colab-df-buttons div {\n",
              "      margin-bottom: 4px;\n",
              "    }\n",
              "\n",
              "    [theme=dark] .colab-df-convert {\n",
              "      background-color: #3B4455;\n",
              "      fill: #D2E3FC;\n",
              "    }\n",
              "\n",
              "    [theme=dark] .colab-df-convert:hover {\n",
              "      background-color: #434B5C;\n",
              "      box-shadow: 0px 1px 3px 1px rgba(0, 0, 0, 0.15);\n",
              "      filter: drop-shadow(0px 1px 2px rgba(0, 0, 0, 0.3));\n",
              "      fill: #FFFFFF;\n",
              "    }\n",
              "  </style>\n",
              "\n",
              "    <script>\n",
              "      const buttonEl =\n",
              "        document.querySelector('#df-eff04781-57a6-4f71-a80c-00f63ec3ed94 button.colab-df-convert');\n",
              "      buttonEl.style.display =\n",
              "        google.colab.kernel.accessAllowed ? 'block' : 'none';\n",
              "\n",
              "      async function convertToInteractive(key) {\n",
              "        const element = document.querySelector('#df-eff04781-57a6-4f71-a80c-00f63ec3ed94');\n",
              "        const dataTable =\n",
              "          await google.colab.kernel.invokeFunction('convertToInteractive',\n",
              "                                                    [key], {});\n",
              "        if (!dataTable) return;\n",
              "\n",
              "        const docLinkHtml = 'Like what you see? Visit the ' +\n",
              "          '<a target=\"_blank\" href=https://colab.research.google.com/notebooks/data_table.ipynb>data table notebook</a>'\n",
              "          + ' to learn more about interactive tables.';\n",
              "        element.innerHTML = '';\n",
              "        dataTable['output_type'] = 'display_data';\n",
              "        await google.colab.output.renderOutput(dataTable, element);\n",
              "        const docLink = document.createElement('div');\n",
              "        docLink.innerHTML = docLinkHtml;\n",
              "        element.appendChild(docLink);\n",
              "      }\n",
              "    </script>\n",
              "  </div>\n",
              "\n",
              "\n",
              "<div id=\"df-e8730f78-cfdd-4cc3-92e5-c4d8e45475e5\">\n",
              "  <button class=\"colab-df-quickchart\" onclick=\"quickchart('df-e8730f78-cfdd-4cc3-92e5-c4d8e45475e5')\"\n",
              "            title=\"Suggest charts\"\n",
              "            style=\"display:none;\">\n",
              "\n",
              "<svg xmlns=\"http://www.w3.org/2000/svg\" height=\"24px\"viewBox=\"0 0 24 24\"\n",
              "     width=\"24px\">\n",
              "    <g>\n",
              "        <path d=\"M19 3H5c-1.1 0-2 .9-2 2v14c0 1.1.9 2 2 2h14c1.1 0 2-.9 2-2V5c0-1.1-.9-2-2-2zM9 17H7v-7h2v7zm4 0h-2V7h2v10zm4 0h-2v-4h2v4z\"/>\n",
              "    </g>\n",
              "</svg>\n",
              "  </button>\n",
              "\n",
              "<style>\n",
              "  .colab-df-quickchart {\n",
              "      --bg-color: #E8F0FE;\n",
              "      --fill-color: #1967D2;\n",
              "      --hover-bg-color: #E2EBFA;\n",
              "      --hover-fill-color: #174EA6;\n",
              "      --disabled-fill-color: #AAA;\n",
              "      --disabled-bg-color: #DDD;\n",
              "  }\n",
              "\n",
              "  [theme=dark] .colab-df-quickchart {\n",
              "      --bg-color: #3B4455;\n",
              "      --fill-color: #D2E3FC;\n",
              "      --hover-bg-color: #434B5C;\n",
              "      --hover-fill-color: #FFFFFF;\n",
              "      --disabled-bg-color: #3B4455;\n",
              "      --disabled-fill-color: #666;\n",
              "  }\n",
              "\n",
              "  .colab-df-quickchart {\n",
              "    background-color: var(--bg-color);\n",
              "    border: none;\n",
              "    border-radius: 50%;\n",
              "    cursor: pointer;\n",
              "    display: none;\n",
              "    fill: var(--fill-color);\n",
              "    height: 32px;\n",
              "    padding: 0;\n",
              "    width: 32px;\n",
              "  }\n",
              "\n",
              "  .colab-df-quickchart:hover {\n",
              "    background-color: var(--hover-bg-color);\n",
              "    box-shadow: 0 1px 2px rgba(60, 64, 67, 0.3), 0 1px 3px 1px rgba(60, 64, 67, 0.15);\n",
              "    fill: var(--button-hover-fill-color);\n",
              "  }\n",
              "\n",
              "  .colab-df-quickchart-complete:disabled,\n",
              "  .colab-df-quickchart-complete:disabled:hover {\n",
              "    background-color: var(--disabled-bg-color);\n",
              "    fill: var(--disabled-fill-color);\n",
              "    box-shadow: none;\n",
              "  }\n",
              "\n",
              "  .colab-df-spinner {\n",
              "    border: 2px solid var(--fill-color);\n",
              "    border-color: transparent;\n",
              "    border-bottom-color: var(--fill-color);\n",
              "    animation:\n",
              "      spin 1s steps(1) infinite;\n",
              "  }\n",
              "\n",
              "  @keyframes spin {\n",
              "    0% {\n",
              "      border-color: transparent;\n",
              "      border-bottom-color: var(--fill-color);\n",
              "      border-left-color: var(--fill-color);\n",
              "    }\n",
              "    20% {\n",
              "      border-color: transparent;\n",
              "      border-left-color: var(--fill-color);\n",
              "      border-top-color: var(--fill-color);\n",
              "    }\n",
              "    30% {\n",
              "      border-color: transparent;\n",
              "      border-left-color: var(--fill-color);\n",
              "      border-top-color: var(--fill-color);\n",
              "      border-right-color: var(--fill-color);\n",
              "    }\n",
              "    40% {\n",
              "      border-color: transparent;\n",
              "      border-right-color: var(--fill-color);\n",
              "      border-top-color: var(--fill-color);\n",
              "    }\n",
              "    60% {\n",
              "      border-color: transparent;\n",
              "      border-right-color: var(--fill-color);\n",
              "    }\n",
              "    80% {\n",
              "      border-color: transparent;\n",
              "      border-right-color: var(--fill-color);\n",
              "      border-bottom-color: var(--fill-color);\n",
              "    }\n",
              "    90% {\n",
              "      border-color: transparent;\n",
              "      border-bottom-color: var(--fill-color);\n",
              "    }\n",
              "  }\n",
              "</style>\n",
              "\n",
              "  <script>\n",
              "    async function quickchart(key) {\n",
              "      const quickchartButtonEl =\n",
              "        document.querySelector('#' + key + ' button');\n",
              "      quickchartButtonEl.disabled = true;  // To prevent multiple clicks.\n",
              "      quickchartButtonEl.classList.add('colab-df-spinner');\n",
              "      try {\n",
              "        const charts = await google.colab.kernel.invokeFunction(\n",
              "            'suggestCharts', [key], {});\n",
              "      } catch (error) {\n",
              "        console.error('Error during call to suggestCharts:', error);\n",
              "      }\n",
              "      quickchartButtonEl.classList.remove('colab-df-spinner');\n",
              "      quickchartButtonEl.classList.add('colab-df-quickchart-complete');\n",
              "    }\n",
              "    (() => {\n",
              "      let quickchartButtonEl =\n",
              "        document.querySelector('#df-e8730f78-cfdd-4cc3-92e5-c4d8e45475e5 button');\n",
              "      quickchartButtonEl.style.display =\n",
              "        google.colab.kernel.accessAllowed ? 'block' : 'none';\n",
              "    })();\n",
              "  </script>\n",
              "</div>\n",
              "    </div>\n",
              "  </div>\n"
            ]
          },
          "metadata": {},
          "execution_count": 9
        }
      ]
    },
    {
      "cell_type": "code",
      "source": [
        "# Separate the features and the label\n",
        "X_scaled = df_scaled.iloc[:, :-1] # all columns except the first and the last\n",
        "y_scaled = df_scaled.iloc[:, -1] # the last column"
      ],
      "metadata": {
        "id": "dlJhUUYMffsp"
      },
      "execution_count": null,
      "outputs": []
    },
    {
      "cell_type": "code",
      "source": [
        "X_scaled"
      ],
      "metadata": {
        "colab": {
          "base_uri": "https://localhost:8080/",
          "height": 443
        },
        "id": "Exdsdwu8ftBT",
        "outputId": "045d113e-f337-44d9-87e1-44edfddcaf2e"
      },
      "execution_count": null,
      "outputs": [
        {
          "output_type": "execute_result",
          "data": {
            "text/plain": [
              "        FEATURE1  FEATURE2  FEATURE3  FEATURE4  FEATURE5  FEATURE6  FEATURE7  \\\n",
              "0       1.890394 -0.073243  0.034108  0.083643 -0.026884 -0.220402  0.377566   \n",
              "1       0.276236 -0.073243  0.034108  0.083643 -0.026884 -0.220402  0.225989   \n",
              "2      -0.414624 -0.073243 -0.373516 -0.469795 -0.388578 -0.220402 -0.683473   \n",
              "3      -0.411396 -0.073243  0.034108  0.083643 -0.026884 -0.220402 -0.607684   \n",
              "4      -0.366199 -0.073243 -0.373516 -0.469795 -0.388578 -0.220402 -0.228742   \n",
              "...          ...       ...       ...       ...       ...       ...       ...   \n",
              "298169 -0.104706 -0.073243 -0.373516 -0.469795 -0.388578 -0.220402 -0.304530   \n",
              "298170 -0.375884 -0.073243  0.034108  0.083643 -0.026884 -0.220402  0.225989   \n",
              "298171 -0.069194  0.030225 -0.373516 -0.469795 -0.388578 -0.220402 -0.456107   \n",
              "298172 -0.111162 -0.073243 -0.373516 -0.469795 -0.388578 -0.220402 -0.607684   \n",
              "298173 -0.356515 -0.073243 -0.373516 -0.469795 -0.388578 -0.220402  0.680720   \n",
              "\n",
              "        FEATURE8  FEATURE9  FEATURE10  ...  FEATURE72  FEATURE73  FEATURE74  \\\n",
              "0      -0.329883  0.270676   0.240670  ...   1.992453   0.210221   1.050469   \n",
              "1      -0.329883 -0.214907   1.014424  ...   0.923139   0.043259   0.102175   \n",
              "2      -0.329883 -0.603372  -0.533084  ...  -1.261303  -0.282715  -0.378130   \n",
              "3      -0.329883 -0.506256  -0.533084  ...  -1.870637   1.665176   3.033266   \n",
              "4      -0.329883 -0.506256   0.756506  ...  -1.261303  -0.266814  -0.378130   \n",
              "...          ...       ...        ...  ...        ...        ...        ...   \n",
              "298169 -0.329883 -0.506256   0.240670  ...   0.237314  -0.179357  -0.230344   \n",
              "298170  1.625557  0.270676  -0.533084  ...  -0.904865  -0.258863  -0.365814   \n",
              "298171 -0.329883 -0.506256  -0.275166  ...   0.449316  -0.052148  -0.094873   \n",
              "298172 -0.329883 -0.603372  -0.533084  ...   0.566701   0.027358  -0.045611   \n",
              "298173 -0.329883  1.144724  -0.533084  ...  -1.261303  -0.250912  -0.279606   \n",
              "\n",
              "        FEATURE75  FEATURE76  FEATURE77  FEATURE78  FEATURE79  FEATURE80  \\\n",
              "0        1.374710  -0.296158  -0.034001   0.157306   0.155906  -0.064600   \n",
              "1       -0.293301   0.668268  -0.034002  -0.878345  -0.160573  -0.495036   \n",
              "2       -0.501803  -0.296158  -0.034003  -0.878345  -0.473329  -0.542862   \n",
              "3       -0.501803  -0.296158  -0.034003  -0.878345  -0.719066  -1.068951   \n",
              "4       -0.501803  -0.296158  -0.034003   0.157306  -0.596198  -0.542862   \n",
              "...           ...        ...        ...        ...        ...        ...   \n",
              "298169  -0.501803  -0.296158  -0.034003   0.157306  -0.541590  -0.542862   \n",
              "298170  -0.501803  -0.296158  -0.034003  -0.878345   0.018145  -0.542862   \n",
              "298171  -0.501803  -0.296158  -0.034003   1.192957  -0.511135  -0.542862   \n",
              "298172  -0.501803  -0.296158  -0.034003   0.157306  -0.489712  -0.542862   \n",
              "298173  -0.501803  -0.296158  -0.034003  -0.878345   1.738304  -0.542862   \n",
              "\n",
              "        FEATURE81  \n",
              "0        2.644636  \n",
              "1       -0.438186  \n",
              "2       -0.438186  \n",
              "3       -0.706258  \n",
              "4       -0.572222  \n",
              "...           ...  \n",
              "298169  -0.438186  \n",
              "298170  -0.304151  \n",
              "298171  -0.572222  \n",
              "298172  -0.036079  \n",
              "298173  -0.036079  \n",
              "\n",
              "[298174 rows x 81 columns]"
            ],
            "text/html": [
              "\n",
              "  <div id=\"df-b9ed7fe0-8836-4f01-85b8-d3df15dae9a6\" class=\"colab-df-container\">\n",
              "    <div>\n",
              "<style scoped>\n",
              "    .dataframe tbody tr th:only-of-type {\n",
              "        vertical-align: middle;\n",
              "    }\n",
              "\n",
              "    .dataframe tbody tr th {\n",
              "        vertical-align: top;\n",
              "    }\n",
              "\n",
              "    .dataframe thead th {\n",
              "        text-align: right;\n",
              "    }\n",
              "</style>\n",
              "<table border=\"1\" class=\"dataframe\">\n",
              "  <thead>\n",
              "    <tr style=\"text-align: right;\">\n",
              "      <th></th>\n",
              "      <th>FEATURE1</th>\n",
              "      <th>FEATURE2</th>\n",
              "      <th>FEATURE3</th>\n",
              "      <th>FEATURE4</th>\n",
              "      <th>FEATURE5</th>\n",
              "      <th>FEATURE6</th>\n",
              "      <th>FEATURE7</th>\n",
              "      <th>FEATURE8</th>\n",
              "      <th>FEATURE9</th>\n",
              "      <th>FEATURE10</th>\n",
              "      <th>...</th>\n",
              "      <th>FEATURE72</th>\n",
              "      <th>FEATURE73</th>\n",
              "      <th>FEATURE74</th>\n",
              "      <th>FEATURE75</th>\n",
              "      <th>FEATURE76</th>\n",
              "      <th>FEATURE77</th>\n",
              "      <th>FEATURE78</th>\n",
              "      <th>FEATURE79</th>\n",
              "      <th>FEATURE80</th>\n",
              "      <th>FEATURE81</th>\n",
              "    </tr>\n",
              "  </thead>\n",
              "  <tbody>\n",
              "    <tr>\n",
              "      <th>0</th>\n",
              "      <td>1.890394</td>\n",
              "      <td>-0.073243</td>\n",
              "      <td>0.034108</td>\n",
              "      <td>0.083643</td>\n",
              "      <td>-0.026884</td>\n",
              "      <td>-0.220402</td>\n",
              "      <td>0.377566</td>\n",
              "      <td>-0.329883</td>\n",
              "      <td>0.270676</td>\n",
              "      <td>0.240670</td>\n",
              "      <td>...</td>\n",
              "      <td>1.992453</td>\n",
              "      <td>0.210221</td>\n",
              "      <td>1.050469</td>\n",
              "      <td>1.374710</td>\n",
              "      <td>-0.296158</td>\n",
              "      <td>-0.034001</td>\n",
              "      <td>0.157306</td>\n",
              "      <td>0.155906</td>\n",
              "      <td>-0.064600</td>\n",
              "      <td>2.644636</td>\n",
              "    </tr>\n",
              "    <tr>\n",
              "      <th>1</th>\n",
              "      <td>0.276236</td>\n",
              "      <td>-0.073243</td>\n",
              "      <td>0.034108</td>\n",
              "      <td>0.083643</td>\n",
              "      <td>-0.026884</td>\n",
              "      <td>-0.220402</td>\n",
              "      <td>0.225989</td>\n",
              "      <td>-0.329883</td>\n",
              "      <td>-0.214907</td>\n",
              "      <td>1.014424</td>\n",
              "      <td>...</td>\n",
              "      <td>0.923139</td>\n",
              "      <td>0.043259</td>\n",
              "      <td>0.102175</td>\n",
              "      <td>-0.293301</td>\n",
              "      <td>0.668268</td>\n",
              "      <td>-0.034002</td>\n",
              "      <td>-0.878345</td>\n",
              "      <td>-0.160573</td>\n",
              "      <td>-0.495036</td>\n",
              "      <td>-0.438186</td>\n",
              "    </tr>\n",
              "    <tr>\n",
              "      <th>2</th>\n",
              "      <td>-0.414624</td>\n",
              "      <td>-0.073243</td>\n",
              "      <td>-0.373516</td>\n",
              "      <td>-0.469795</td>\n",
              "      <td>-0.388578</td>\n",
              "      <td>-0.220402</td>\n",
              "      <td>-0.683473</td>\n",
              "      <td>-0.329883</td>\n",
              "      <td>-0.603372</td>\n",
              "      <td>-0.533084</td>\n",
              "      <td>...</td>\n",
              "      <td>-1.261303</td>\n",
              "      <td>-0.282715</td>\n",
              "      <td>-0.378130</td>\n",
              "      <td>-0.501803</td>\n",
              "      <td>-0.296158</td>\n",
              "      <td>-0.034003</td>\n",
              "      <td>-0.878345</td>\n",
              "      <td>-0.473329</td>\n",
              "      <td>-0.542862</td>\n",
              "      <td>-0.438186</td>\n",
              "    </tr>\n",
              "    <tr>\n",
              "      <th>3</th>\n",
              "      <td>-0.411396</td>\n",
              "      <td>-0.073243</td>\n",
              "      <td>0.034108</td>\n",
              "      <td>0.083643</td>\n",
              "      <td>-0.026884</td>\n",
              "      <td>-0.220402</td>\n",
              "      <td>-0.607684</td>\n",
              "      <td>-0.329883</td>\n",
              "      <td>-0.506256</td>\n",
              "      <td>-0.533084</td>\n",
              "      <td>...</td>\n",
              "      <td>-1.870637</td>\n",
              "      <td>1.665176</td>\n",
              "      <td>3.033266</td>\n",
              "      <td>-0.501803</td>\n",
              "      <td>-0.296158</td>\n",
              "      <td>-0.034003</td>\n",
              "      <td>-0.878345</td>\n",
              "      <td>-0.719066</td>\n",
              "      <td>-1.068951</td>\n",
              "      <td>-0.706258</td>\n",
              "    </tr>\n",
              "    <tr>\n",
              "      <th>4</th>\n",
              "      <td>-0.366199</td>\n",
              "      <td>-0.073243</td>\n",
              "      <td>-0.373516</td>\n",
              "      <td>-0.469795</td>\n",
              "      <td>-0.388578</td>\n",
              "      <td>-0.220402</td>\n",
              "      <td>-0.228742</td>\n",
              "      <td>-0.329883</td>\n",
              "      <td>-0.506256</td>\n",
              "      <td>0.756506</td>\n",
              "      <td>...</td>\n",
              "      <td>-1.261303</td>\n",
              "      <td>-0.266814</td>\n",
              "      <td>-0.378130</td>\n",
              "      <td>-0.501803</td>\n",
              "      <td>-0.296158</td>\n",
              "      <td>-0.034003</td>\n",
              "      <td>0.157306</td>\n",
              "      <td>-0.596198</td>\n",
              "      <td>-0.542862</td>\n",
              "      <td>-0.572222</td>\n",
              "    </tr>\n",
              "    <tr>\n",
              "      <th>...</th>\n",
              "      <td>...</td>\n",
              "      <td>...</td>\n",
              "      <td>...</td>\n",
              "      <td>...</td>\n",
              "      <td>...</td>\n",
              "      <td>...</td>\n",
              "      <td>...</td>\n",
              "      <td>...</td>\n",
              "      <td>...</td>\n",
              "      <td>...</td>\n",
              "      <td>...</td>\n",
              "      <td>...</td>\n",
              "      <td>...</td>\n",
              "      <td>...</td>\n",
              "      <td>...</td>\n",
              "      <td>...</td>\n",
              "      <td>...</td>\n",
              "      <td>...</td>\n",
              "      <td>...</td>\n",
              "      <td>...</td>\n",
              "      <td>...</td>\n",
              "    </tr>\n",
              "    <tr>\n",
              "      <th>298169</th>\n",
              "      <td>-0.104706</td>\n",
              "      <td>-0.073243</td>\n",
              "      <td>-0.373516</td>\n",
              "      <td>-0.469795</td>\n",
              "      <td>-0.388578</td>\n",
              "      <td>-0.220402</td>\n",
              "      <td>-0.304530</td>\n",
              "      <td>-0.329883</td>\n",
              "      <td>-0.506256</td>\n",
              "      <td>0.240670</td>\n",
              "      <td>...</td>\n",
              "      <td>0.237314</td>\n",
              "      <td>-0.179357</td>\n",
              "      <td>-0.230344</td>\n",
              "      <td>-0.501803</td>\n",
              "      <td>-0.296158</td>\n",
              "      <td>-0.034003</td>\n",
              "      <td>0.157306</td>\n",
              "      <td>-0.541590</td>\n",
              "      <td>-0.542862</td>\n",
              "      <td>-0.438186</td>\n",
              "    </tr>\n",
              "    <tr>\n",
              "      <th>298170</th>\n",
              "      <td>-0.375884</td>\n",
              "      <td>-0.073243</td>\n",
              "      <td>0.034108</td>\n",
              "      <td>0.083643</td>\n",
              "      <td>-0.026884</td>\n",
              "      <td>-0.220402</td>\n",
              "      <td>0.225989</td>\n",
              "      <td>1.625557</td>\n",
              "      <td>0.270676</td>\n",
              "      <td>-0.533084</td>\n",
              "      <td>...</td>\n",
              "      <td>-0.904865</td>\n",
              "      <td>-0.258863</td>\n",
              "      <td>-0.365814</td>\n",
              "      <td>-0.501803</td>\n",
              "      <td>-0.296158</td>\n",
              "      <td>-0.034003</td>\n",
              "      <td>-0.878345</td>\n",
              "      <td>0.018145</td>\n",
              "      <td>-0.542862</td>\n",
              "      <td>-0.304151</td>\n",
              "    </tr>\n",
              "    <tr>\n",
              "      <th>298171</th>\n",
              "      <td>-0.069194</td>\n",
              "      <td>0.030225</td>\n",
              "      <td>-0.373516</td>\n",
              "      <td>-0.469795</td>\n",
              "      <td>-0.388578</td>\n",
              "      <td>-0.220402</td>\n",
              "      <td>-0.456107</td>\n",
              "      <td>-0.329883</td>\n",
              "      <td>-0.506256</td>\n",
              "      <td>-0.275166</td>\n",
              "      <td>...</td>\n",
              "      <td>0.449316</td>\n",
              "      <td>-0.052148</td>\n",
              "      <td>-0.094873</td>\n",
              "      <td>-0.501803</td>\n",
              "      <td>-0.296158</td>\n",
              "      <td>-0.034003</td>\n",
              "      <td>1.192957</td>\n",
              "      <td>-0.511135</td>\n",
              "      <td>-0.542862</td>\n",
              "      <td>-0.572222</td>\n",
              "    </tr>\n",
              "    <tr>\n",
              "      <th>298172</th>\n",
              "      <td>-0.111162</td>\n",
              "      <td>-0.073243</td>\n",
              "      <td>-0.373516</td>\n",
              "      <td>-0.469795</td>\n",
              "      <td>-0.388578</td>\n",
              "      <td>-0.220402</td>\n",
              "      <td>-0.607684</td>\n",
              "      <td>-0.329883</td>\n",
              "      <td>-0.603372</td>\n",
              "      <td>-0.533084</td>\n",
              "      <td>...</td>\n",
              "      <td>0.566701</td>\n",
              "      <td>0.027358</td>\n",
              "      <td>-0.045611</td>\n",
              "      <td>-0.501803</td>\n",
              "      <td>-0.296158</td>\n",
              "      <td>-0.034003</td>\n",
              "      <td>0.157306</td>\n",
              "      <td>-0.489712</td>\n",
              "      <td>-0.542862</td>\n",
              "      <td>-0.036079</td>\n",
              "    </tr>\n",
              "    <tr>\n",
              "      <th>298173</th>\n",
              "      <td>-0.356515</td>\n",
              "      <td>-0.073243</td>\n",
              "      <td>-0.373516</td>\n",
              "      <td>-0.469795</td>\n",
              "      <td>-0.388578</td>\n",
              "      <td>-0.220402</td>\n",
              "      <td>0.680720</td>\n",
              "      <td>-0.329883</td>\n",
              "      <td>1.144724</td>\n",
              "      <td>-0.533084</td>\n",
              "      <td>...</td>\n",
              "      <td>-1.261303</td>\n",
              "      <td>-0.250912</td>\n",
              "      <td>-0.279606</td>\n",
              "      <td>-0.501803</td>\n",
              "      <td>-0.296158</td>\n",
              "      <td>-0.034003</td>\n",
              "      <td>-0.878345</td>\n",
              "      <td>1.738304</td>\n",
              "      <td>-0.542862</td>\n",
              "      <td>-0.036079</td>\n",
              "    </tr>\n",
              "  </tbody>\n",
              "</table>\n",
              "<p>298174 rows × 81 columns</p>\n",
              "</div>\n",
              "    <div class=\"colab-df-buttons\">\n",
              "\n",
              "  <div class=\"colab-df-container\">\n",
              "    <button class=\"colab-df-convert\" onclick=\"convertToInteractive('df-b9ed7fe0-8836-4f01-85b8-d3df15dae9a6')\"\n",
              "            title=\"Convert this dataframe to an interactive table.\"\n",
              "            style=\"display:none;\">\n",
              "\n",
              "  <svg xmlns=\"http://www.w3.org/2000/svg\" height=\"24px\" viewBox=\"0 -960 960 960\">\n",
              "    <path d=\"M120-120v-720h720v720H120Zm60-500h600v-160H180v160Zm220 220h160v-160H400v160Zm0 220h160v-160H400v160ZM180-400h160v-160H180v160Zm440 0h160v-160H620v160ZM180-180h160v-160H180v160Zm440 0h160v-160H620v160Z\"/>\n",
              "  </svg>\n",
              "    </button>\n",
              "\n",
              "  <style>\n",
              "    .colab-df-container {\n",
              "      display:flex;\n",
              "      gap: 12px;\n",
              "    }\n",
              "\n",
              "    .colab-df-convert {\n",
              "      background-color: #E8F0FE;\n",
              "      border: none;\n",
              "      border-radius: 50%;\n",
              "      cursor: pointer;\n",
              "      display: none;\n",
              "      fill: #1967D2;\n",
              "      height: 32px;\n",
              "      padding: 0 0 0 0;\n",
              "      width: 32px;\n",
              "    }\n",
              "\n",
              "    .colab-df-convert:hover {\n",
              "      background-color: #E2EBFA;\n",
              "      box-shadow: 0px 1px 2px rgba(60, 64, 67, 0.3), 0px 1px 3px 1px rgba(60, 64, 67, 0.15);\n",
              "      fill: #174EA6;\n",
              "    }\n",
              "\n",
              "    .colab-df-buttons div {\n",
              "      margin-bottom: 4px;\n",
              "    }\n",
              "\n",
              "    [theme=dark] .colab-df-convert {\n",
              "      background-color: #3B4455;\n",
              "      fill: #D2E3FC;\n",
              "    }\n",
              "\n",
              "    [theme=dark] .colab-df-convert:hover {\n",
              "      background-color: #434B5C;\n",
              "      box-shadow: 0px 1px 3px 1px rgba(0, 0, 0, 0.15);\n",
              "      filter: drop-shadow(0px 1px 2px rgba(0, 0, 0, 0.3));\n",
              "      fill: #FFFFFF;\n",
              "    }\n",
              "  </style>\n",
              "\n",
              "    <script>\n",
              "      const buttonEl =\n",
              "        document.querySelector('#df-b9ed7fe0-8836-4f01-85b8-d3df15dae9a6 button.colab-df-convert');\n",
              "      buttonEl.style.display =\n",
              "        google.colab.kernel.accessAllowed ? 'block' : 'none';\n",
              "\n",
              "      async function convertToInteractive(key) {\n",
              "        const element = document.querySelector('#df-b9ed7fe0-8836-4f01-85b8-d3df15dae9a6');\n",
              "        const dataTable =\n",
              "          await google.colab.kernel.invokeFunction('convertToInteractive',\n",
              "                                                    [key], {});\n",
              "        if (!dataTable) return;\n",
              "\n",
              "        const docLinkHtml = 'Like what you see? Visit the ' +\n",
              "          '<a target=\"_blank\" href=https://colab.research.google.com/notebooks/data_table.ipynb>data table notebook</a>'\n",
              "          + ' to learn more about interactive tables.';\n",
              "        element.innerHTML = '';\n",
              "        dataTable['output_type'] = 'display_data';\n",
              "        await google.colab.output.renderOutput(dataTable, element);\n",
              "        const docLink = document.createElement('div');\n",
              "        docLink.innerHTML = docLinkHtml;\n",
              "        element.appendChild(docLink);\n",
              "      }\n",
              "    </script>\n",
              "  </div>\n",
              "\n",
              "\n",
              "<div id=\"df-0da52128-3c6b-415f-a5cd-c6fb29802250\">\n",
              "  <button class=\"colab-df-quickchart\" onclick=\"quickchart('df-0da52128-3c6b-415f-a5cd-c6fb29802250')\"\n",
              "            title=\"Suggest charts\"\n",
              "            style=\"display:none;\">\n",
              "\n",
              "<svg xmlns=\"http://www.w3.org/2000/svg\" height=\"24px\"viewBox=\"0 0 24 24\"\n",
              "     width=\"24px\">\n",
              "    <g>\n",
              "        <path d=\"M19 3H5c-1.1 0-2 .9-2 2v14c0 1.1.9 2 2 2h14c1.1 0 2-.9 2-2V5c0-1.1-.9-2-2-2zM9 17H7v-7h2v7zm4 0h-2V7h2v10zm4 0h-2v-4h2v4z\"/>\n",
              "    </g>\n",
              "</svg>\n",
              "  </button>\n",
              "\n",
              "<style>\n",
              "  .colab-df-quickchart {\n",
              "      --bg-color: #E8F0FE;\n",
              "      --fill-color: #1967D2;\n",
              "      --hover-bg-color: #E2EBFA;\n",
              "      --hover-fill-color: #174EA6;\n",
              "      --disabled-fill-color: #AAA;\n",
              "      --disabled-bg-color: #DDD;\n",
              "  }\n",
              "\n",
              "  [theme=dark] .colab-df-quickchart {\n",
              "      --bg-color: #3B4455;\n",
              "      --fill-color: #D2E3FC;\n",
              "      --hover-bg-color: #434B5C;\n",
              "      --hover-fill-color: #FFFFFF;\n",
              "      --disabled-bg-color: #3B4455;\n",
              "      --disabled-fill-color: #666;\n",
              "  }\n",
              "\n",
              "  .colab-df-quickchart {\n",
              "    background-color: var(--bg-color);\n",
              "    border: none;\n",
              "    border-radius: 50%;\n",
              "    cursor: pointer;\n",
              "    display: none;\n",
              "    fill: var(--fill-color);\n",
              "    height: 32px;\n",
              "    padding: 0;\n",
              "    width: 32px;\n",
              "  }\n",
              "\n",
              "  .colab-df-quickchart:hover {\n",
              "    background-color: var(--hover-bg-color);\n",
              "    box-shadow: 0 1px 2px rgba(60, 64, 67, 0.3), 0 1px 3px 1px rgba(60, 64, 67, 0.15);\n",
              "    fill: var(--button-hover-fill-color);\n",
              "  }\n",
              "\n",
              "  .colab-df-quickchart-complete:disabled,\n",
              "  .colab-df-quickchart-complete:disabled:hover {\n",
              "    background-color: var(--disabled-bg-color);\n",
              "    fill: var(--disabled-fill-color);\n",
              "    box-shadow: none;\n",
              "  }\n",
              "\n",
              "  .colab-df-spinner {\n",
              "    border: 2px solid var(--fill-color);\n",
              "    border-color: transparent;\n",
              "    border-bottom-color: var(--fill-color);\n",
              "    animation:\n",
              "      spin 1s steps(1) infinite;\n",
              "  }\n",
              "\n",
              "  @keyframes spin {\n",
              "    0% {\n",
              "      border-color: transparent;\n",
              "      border-bottom-color: var(--fill-color);\n",
              "      border-left-color: var(--fill-color);\n",
              "    }\n",
              "    20% {\n",
              "      border-color: transparent;\n",
              "      border-left-color: var(--fill-color);\n",
              "      border-top-color: var(--fill-color);\n",
              "    }\n",
              "    30% {\n",
              "      border-color: transparent;\n",
              "      border-left-color: var(--fill-color);\n",
              "      border-top-color: var(--fill-color);\n",
              "      border-right-color: var(--fill-color);\n",
              "    }\n",
              "    40% {\n",
              "      border-color: transparent;\n",
              "      border-right-color: var(--fill-color);\n",
              "      border-top-color: var(--fill-color);\n",
              "    }\n",
              "    60% {\n",
              "      border-color: transparent;\n",
              "      border-right-color: var(--fill-color);\n",
              "    }\n",
              "    80% {\n",
              "      border-color: transparent;\n",
              "      border-right-color: var(--fill-color);\n",
              "      border-bottom-color: var(--fill-color);\n",
              "    }\n",
              "    90% {\n",
              "      border-color: transparent;\n",
              "      border-bottom-color: var(--fill-color);\n",
              "    }\n",
              "  }\n",
              "</style>\n",
              "\n",
              "  <script>\n",
              "    async function quickchart(key) {\n",
              "      const quickchartButtonEl =\n",
              "        document.querySelector('#' + key + ' button');\n",
              "      quickchartButtonEl.disabled = true;  // To prevent multiple clicks.\n",
              "      quickchartButtonEl.classList.add('colab-df-spinner');\n",
              "      try {\n",
              "        const charts = await google.colab.kernel.invokeFunction(\n",
              "            'suggestCharts', [key], {});\n",
              "      } catch (error) {\n",
              "        console.error('Error during call to suggestCharts:', error);\n",
              "      }\n",
              "      quickchartButtonEl.classList.remove('colab-df-spinner');\n",
              "      quickchartButtonEl.classList.add('colab-df-quickchart-complete');\n",
              "    }\n",
              "    (() => {\n",
              "      let quickchartButtonEl =\n",
              "        document.querySelector('#df-0da52128-3c6b-415f-a5cd-c6fb29802250 button');\n",
              "      quickchartButtonEl.style.display =\n",
              "        google.colab.kernel.accessAllowed ? 'block' : 'none';\n",
              "    })();\n",
              "  </script>\n",
              "</div>\n",
              "    </div>\n",
              "  </div>\n"
            ]
          },
          "metadata": {},
          "execution_count": 11
        }
      ]
    },
    {
      "cell_type": "code",
      "source": [
        "y_scaled"
      ],
      "metadata": {
        "colab": {
          "base_uri": "https://localhost:8080/"
        },
        "id": "bADKYfplf0VD",
        "outputId": "7f17c012-22fd-47ae-eefd-578dab92cefb"
      },
      "execution_count": null,
      "outputs": [
        {
          "output_type": "execute_result",
          "data": {
            "text/plain": [
              "0         0\n",
              "1         0\n",
              "2         0\n",
              "3         0\n",
              "4         0\n",
              "         ..\n",
              "298169    0\n",
              "298170    0\n",
              "298171    0\n",
              "298172    0\n",
              "298173    0\n",
              "Name: Class Label, Length: 298174, dtype: int64"
            ]
          },
          "metadata": {},
          "execution_count": 12
        }
      ]
    },
    {
      "cell_type": "markdown",
      "source": [
        "# 🌴🌳🌲 Random Forest"
      ],
      "metadata": {
        "id": "s8zC_aUFdakW"
      }
    },
    {
      "cell_type": "markdown",
      "source": [
        "## Standard Random Forest"
      ],
      "metadata": {
        "id": "Rgjf_8o1egSp"
      }
    },
    {
      "cell_type": "code",
      "source": [
        "#Build SRF model\n",
        "SRF = RandomForestClassifier(n_estimators=150, random_state=0)\n",
        "#Create Stratified K-fold cross validation\n",
        "cv = RepeatedStratifiedKFold(n_splits=10, n_repeats=3, random_state=1)\n",
        "scoring = ('f1', 'recall', 'precision')\n",
        "#Evaluate SRF model\n",
        "scores = cross_validate(SRF, X_scaled, y_scaled, scoring=scoring, cv=cv)\n",
        "#Get average evaluation metrics\n",
        "print('Mean f1: %.3f' % mean(scores['test_f1']))\n",
        "print('Mean recall: %.3f' % mean(scores['test_recall']))\n",
        "print('Mean precision: %.3f' % mean(scores['test_precision']))\n",
        "\n",
        "#Randomly spilt dataset to test and train set\n",
        "X_train, X_test, y_train, y_test = train_test_split(X_scaled, y_scaled, test_size=0.1, stratify=y)\n",
        "#Train SRF\n",
        "SRF.fit(X_train, y_train)\n",
        "#SRF prediction result\n",
        "y_pred = SRF.predict(X_test)\n"
      ],
      "metadata": {
        "colab": {
          "base_uri": "https://localhost:8080/",
          "height": 297
        },
        "id": "XSWU_7_2ejCi",
        "outputId": "0ed3fd02-4997-4747-8eae-ddcfaa7c9fd9"
      },
      "execution_count": null,
      "outputs": [
        {
          "output_type": "stream",
          "name": "stdout",
          "text": [
            "Mean f1: 0.938\n",
            "Mean recall: 0.922\n",
            "Mean precision: 0.955\n"
          ]
        },
        {
          "output_type": "error",
          "ename": "TypeError",
          "evalue": "confusion_matrix() got an unexpected keyword argument 'display_labels'",
          "traceback": [
            "\u001b[0;31m---------------------------------------------------------------------------\u001b[0m",
            "\u001b[0;31mTypeError\u001b[0m                                 Traceback (most recent call last)",
            "\u001b[0;32m<ipython-input-20-02fcec260b84>\u001b[0m in \u001b[0;36m<cell line: 20>\u001b[0;34m()\u001b[0m\n\u001b[1;32m     18\u001b[0m \u001b[0my_pred\u001b[0m \u001b[0;34m=\u001b[0m \u001b[0mSRF\u001b[0m\u001b[0;34m.\u001b[0m\u001b[0mpredict\u001b[0m\u001b[0;34m(\u001b[0m\u001b[0mX_test\u001b[0m\u001b[0;34m)\u001b[0m\u001b[0;34m\u001b[0m\u001b[0;34m\u001b[0m\u001b[0m\n\u001b[1;32m     19\u001b[0m \u001b[0;31m#Create confusion matrix\u001b[0m\u001b[0;34m\u001b[0m\u001b[0;34m\u001b[0m\u001b[0m\n\u001b[0;32m---> 20\u001b[0;31m \u001b[0mfig\u001b[0m \u001b[0;34m=\u001b[0m \u001b[0mconfusion_matrix\u001b[0m\u001b[0;34m(\u001b[0m\u001b[0mSRF\u001b[0m\u001b[0;34m,\u001b[0m \u001b[0mX_test\u001b[0m\u001b[0;34m,\u001b[0m \u001b[0my_test\u001b[0m\u001b[0;34m,\u001b[0m \u001b[0mdisplay_labels\u001b[0m\u001b[0;34m=\u001b[0m\u001b[0;34m[\u001b[0m\u001b[0;34m'Will Not Buy'\u001b[0m\u001b[0;34m,\u001b[0m \u001b[0;34m'Will Buy'\u001b[0m\u001b[0;34m]\u001b[0m\u001b[0;34m,\u001b[0m \u001b[0mcmap\u001b[0m\u001b[0;34m=\u001b[0m\u001b[0;34m'Greens'\u001b[0m\u001b[0;34m)\u001b[0m\u001b[0;34m\u001b[0m\u001b[0;34m\u001b[0m\u001b[0m\n\u001b[0m\u001b[1;32m     21\u001b[0m \u001b[0mplt\u001b[0m\u001b[0;34m.\u001b[0m\u001b[0mtitle\u001b[0m\u001b[0;34m(\u001b[0m\u001b[0;34m'Standard Random Forest Confusion Matrix'\u001b[0m\u001b[0;34m)\u001b[0m\u001b[0;34m\u001b[0m\u001b[0;34m\u001b[0m\u001b[0m\n\u001b[1;32m     22\u001b[0m \u001b[0mplt\u001b[0m\u001b[0;34m.\u001b[0m\u001b[0mshow\u001b[0m\u001b[0;34m(\u001b[0m\u001b[0;34m)\u001b[0m\u001b[0;34m\u001b[0m\u001b[0;34m\u001b[0m\u001b[0m\n",
            "\u001b[0;31mTypeError\u001b[0m: confusion_matrix() got an unexpected keyword argument 'display_labels'"
          ]
        }
      ]
    },
    {
      "cell_type": "code",
      "source": [
        "y_pred_proba = SRF.predict_proba(X_test)[:, 1]\n",
        "\n",
        "# Calculate AUC\n",
        "auc = roc_auc_score(y_test, y_pred_proba)\n",
        "print(f\"AUC: {auc}\")"
      ],
      "metadata": {
        "colab": {
          "base_uri": "https://localhost:8080/"
        },
        "id": "cH4JQl4pqoXq",
        "outputId": "2e1b5206-e9a5-42c4-8bba-461c5e1f1a55"
      },
      "execution_count": null,
      "outputs": [
        {
          "output_type": "stream",
          "name": "stdout",
          "text": [
            "AUC: 1.0\n"
          ]
        }
      ]
    },
    {
      "cell_type": "code",
      "source": [
        "#Create confusion matrix\n",
        "cm = confusion_matrix(y_test, y_pred)\n",
        "disp = ConfusionMatrixDisplay(confusion_matrix=cm)\n",
        "disp = disp.plot(cmap=\"Blues\")\n",
        "plt.title('Standard Random Forest Confusion Matrix')\n",
        "plt.show()"
      ],
      "metadata": {
        "colab": {
          "base_uri": "https://localhost:8080/",
          "height": 472
        },
        "id": "v2yuQBgyoeKh",
        "outputId": "81b32c6e-e223-431b-bc70-51231e597933"
      },
      "execution_count": null,
      "outputs": [
        {
          "output_type": "display_data",
          "data": {
            "text/plain": [
              "<Figure size 640x480 with 2 Axes>"
            ],
            "image/png": "[encoded data removed]"
          },
          "metadata": {}
        }
      ]
    },
    {
      "cell_type": "markdown",
      "source": [
        "## Balanced Random Forest"
      ],
      "metadata": {
        "id": "g_fP7gRshKVA"
      }
    },
    {
      "cell_type": "code",
      "source": [
        "#Build SRF model\n",
        "BRFC = BalancedRandomForestClassifier(n_estimators=150, random_state=2)\n",
        "#Create Stratified K-fold cross validation\n",
        "cv = RepeatedStratifiedKFold(n_splits=10, n_repeats=3, random_state=1)\n",
        "scoring = ('f1', 'recall', 'precision')\n",
        "#Evaluate BRFC model\n",
        "scores = cross_validate(BRFC, X_scaled, y, scoring=scoring, cv=cv)\n",
        "#Get average evaluation metrics\n",
        "print('Mean f1: %.3f' % mean(scores['test_f1']))\n",
        "print('Mean recall: %.3f' % mean(scores['test_recall']))\n",
        "print('Mean precision: %.3f' % mean(scores['test_precision']))\n",
        "\n",
        "#Randomly spilt dataset to test and train set\n",
        "X_train, X_test, y_train, y_test = train_test_split(X_scaled, y, test_size=0.1, stratify=y)\n",
        "#Train BRFC\n",
        "BRFC.fit(X_train, y_train)\n",
        "#BRFC prediction result\n",
        "y_pred = BRFC.predict(X_test)\n"
      ],
      "metadata": {
        "id": "Mmk7KpEahVVg"
      },
      "execution_count": null,
      "outputs": []
    },
    {
      "cell_type": "code",
      "source": [
        "print('Mean f1: %.3f' % mean(scores['test_f1']))\n",
        "print('Mean recall: %.3f' % mean(scores['test_recall']))\n",
        "print('Mean precision: %.3f' % mean(scores['test_precision']))"
      ],
      "metadata": {
        "colab": {
          "base_uri": "https://localhost:8080/"
        },
        "id": "sRvw7adJr0_W",
        "outputId": "917e46c3-75c4-42b9-ac8c-036c493c7dec"
      },
      "execution_count": null,
      "outputs": [
        {
          "output_type": "stream",
          "name": "stdout",
          "text": [
            "Mean f1: 0.386\n",
            "Mean recall: 0.999\n",
            "Mean precision: 0.239\n"
          ]
        }
      ]
    },
    {
      "cell_type": "code",
      "source": [
        "y_pred_proba = BRFC.predict_proba(X_test)[:, 1]\n",
        "\n",
        "# Calculate AUC\n",
        "auc = roc_auc_score(y_test, y_pred_proba)\n",
        "print(f\"AUC: {auc}\")"
      ],
      "metadata": {
        "colab": {
          "base_uri": "https://localhost:8080/"
        },
        "id": "64N8uMG2rGH9",
        "outputId": "6e49cd3a-cb3b-4d2c-b611-a726b6ac019d"
      },
      "execution_count": null,
      "outputs": [
        {
          "output_type": "stream",
          "name": "stdout",
          "text": [
            "AUC: 0.9997698985888358\n"
          ]
        }
      ]
    },
    {
      "cell_type": "code",
      "source": [
        "#Create confusion matrix\n",
        "cm = confusion_matrix(y_test, y_pred)\n",
        "disp = ConfusionMatrixDisplay(confusion_matrix=cm)\n",
        "disp = disp.plot(cmap=\"Blues\")\n",
        "plt.title('Balanced Random Forest Confusion Matrix')\n",
        "plt.show()"
      ],
      "metadata": {
        "colab": {
          "base_uri": "https://localhost:8080/",
          "height": 472
        },
        "id": "WpQCY5rXpiPv",
        "outputId": "65ea5984-198e-496a-b867-59ffa1a68e99"
      },
      "execution_count": null,
      "outputs": [
        {
          "output_type": "display_data",
          "data": {
            "text/plain": [
              "<Figure size 640x480 with 2 Axes>"
            ],
            "image/png": "[encoded data removed]"
          },
          "metadata": {}
        }
      ]
    },
    {
      "cell_type": "markdown",
      "source": [
        "## SMOTE (Synthetic Minority Oversampling Technique) using Standard Random Forest\n",
        "This solution takes more than 4 hours, and because of my own time limitation I had to interrupt the process."
      ],
      "metadata": {
        "id": "jor-G6JihgBg"
      }
    },
    {
      "cell_type": "code",
      "source": [
        "#Use SMOTE to oversample the minority class\n",
        "oversample = SMOTE()\n",
        "over_X, over_y = oversample.fit_resample(X_scaled, y)\n",
        "over_X_train, over_X_test, over_y_train, over_y_test = train_test_split(over_X, over_y, test_size=0.1, stratify=over_y)\n",
        "#Build SMOTE SRF model\n",
        "SMOTE_SRF = RandomForestClassifier(n_estimators=150, random_state=0)\n",
        "\n",
        "#Randomly spilt dataset to test and train set\n",
        "X_train, X_test, y_train, y_test = train_test_split(X_scaled, y, test_size=0.1, stratify=y)\n",
        "#Train SMOTE SRF\n",
        "SMOTE_SRF.fit(over_X_train, over_y_train)\n",
        "#SMOTE SRF prediction result\n",
        "y_pred = SMOTE_SRF.predict(X_test)\n",
        "\n",
        "# evaluate the random forest classifier using various metrics\n",
        "print(f\"Accuracy: {accuracy_score(y_test, y_pred):.3f}\")\n",
        "print(f\"Precision: {precision_score(y_test, y_pred):.3f}\")\n",
        "print(f\"Recall: {recall_score(y_test, y_pred):.3f}\")\n",
        "print(f\"F1: {f1_score(y_test, y_pred):.3f}\")\n",
        "print(f\"Confusion matrix: \\n{confusion_matrix(y_test, y_pred)}\")"
      ],
      "metadata": {
        "colab": {
          "base_uri": "https://localhost:8080/"
        },
        "id": "XqzG5uMhhfwA",
        "outputId": "c5fac185-c62f-459e-96f7-084221ac903c"
      },
      "execution_count": null,
      "outputs": [
        {
          "output_type": "stream",
          "name": "stdout",
          "text": [
            "Accuracy: 1.000\n",
            "Precision: 0.990\n",
            "Recall: 0.990\n",
            "F1: 0.990\n",
            "Confusion matrix: \n",
            "[[29718     1]\n",
            " [    1    98]]\n"
          ]
        }
      ]
    },
    {
      "cell_type": "code",
      "source": [
        "y_pred_proba = SMOTE_SRF.predict_proba(X_test)[:, 1]\n",
        "\n",
        "# Calculate AUC\n",
        "auc = roc_auc_score(y_test, y_pred_proba)\n",
        "print(f\"AUC: {auc}\")"
      ],
      "metadata": {
        "id": "RsOY3mpDsEkn",
        "colab": {
          "base_uri": "https://localhost:8080/"
        },
        "outputId": "1eee4a1b-259c-45c6-d201-4fd5d7b37ba6"
      },
      "execution_count": null,
      "outputs": [
        {
          "output_type": "stream",
          "name": "stdout",
          "text": [
            "AUC: 0.9999972809286716\n"
          ]
        }
      ]
    },
    {
      "cell_type": "code",
      "source": [
        "#Create confusion matrix\n",
        "cm = confusion_matrix(y_test, y_pred)\n",
        "disp = ConfusionMatrixDisplay(confusion_matrix=cm)\n",
        "disp = disp.plot(cmap=\"Blues\")\n",
        "plt.title('SMOTE + Standard Random Forest Confusion Matrix')\n",
        "plt.show()"
      ],
      "metadata": {
        "id": "ze1hnp05sIy6",
        "colab": {
          "base_uri": "https://localhost:8080/",
          "height": 472
        },
        "outputId": "6c7a73d4-86e6-45f1-9f6e-1a26a4effa86"
      },
      "execution_count": null,
      "outputs": [
        {
          "output_type": "display_data",
          "data": {
            "text/plain": [
              "<Figure size 640x480 with 2 Axes>"
            ],
            "image/png": "[encoded data removed]"
          },
          "metadata": {}
        }
      ]
    },
    {
      "cell_type": "code",
      "source": [
        "# get the feature importance from the Random Forest model\n",
        "rf_importance = SMOTE_SRF.feature_importances_\n",
        "\n",
        "# sort the features by importance in descending order for the Random Forest model\n",
        "rf_sorted_features = sorted(zip(features, rf_importance), key=lambda x: x[1], reverse=True)\n",
        "\n",
        "# create a data frame of the feature importance for the Random Forest model\n",
        "rf_df = pd.DataFrame(rf_sorted_features, columns=[\"feature\", \"importance\"])\n",
        "\n",
        "# plot the feature importance for the Random Forest model\n",
        "rf_df.plot(kind=\"bar\", x=\"feature\", y=\"importance\", title=\"Random Forest feature importance\", figsize=(20,10))\n",
        "plt.show()"
      ],
      "metadata": {
        "colab": {
          "base_uri": "https://localhost:8080/",
          "height": 653
        },
        "id": "-eAZlchnv-pL",
        "outputId": "d7992a63-578f-4e6b-98c3-9a157f7dec05"
      },
      "execution_count": null,
      "outputs": [
        {
          "output_type": "display_data",
          "data": {
            "text/plain": [
              "<Figure size 2000x1000 with 1 Axes>"
            ],
            "image/png": "[encoded data removed]"
          },
          "metadata": {}
        }
      ]
    },
    {
      "cell_type": "markdown",
      "source": [
        "# 👻 XGBoost"
      ],
      "metadata": {
        "id": "uo8pXKqL8MwZ"
      }
    },
    {
      "cell_type": "markdown",
      "source": [
        "## Standard XGBoost"
      ],
      "metadata": {
        "id": "eq67iK1LquWA"
      }
    },
    {
      "cell_type": "code",
      "source": [
        "# split data into training and testing sets\n",
        "X_train, X_test, y_train, y_test = train_test_split(X_scaled, y, test_size=0.3, random_state=0, stratify=y)\n",
        "\n",
        "# create XGBClassifier object with desired parameters\n",
        "xgb = XGBClassifier(n_estimators=100, learning_rate=0.1, max_depth=3, random_state=0)\n",
        "\n",
        "# fit XGBClassifier to training set\n",
        "xgb.fit(X_train, y_train)\n",
        "\n",
        "# predict on testing set\n",
        "y_pred = xgb.predict(X_test)\n",
        "\n",
        "# evaluate the model using various metrics\n",
        "print(f\"Accuracy: {accuracy_score(y_test, y_pred):.3f}\")\n",
        "print(f\"Precision: {precision_score(y_test, y_pred):.3f}\")\n",
        "print(f\"Recall: {recall_score(y_test, y_pred):.3f}\")\n",
        "print(f\"F1: {f1_score(y_test, y_pred):.3f}\")\n",
        "print(f\"Confusion matrix: \\n{confusion_matrix(y_test, y_pred)}\")"
      ],
      "metadata": {
        "id": "Sonl-qUb8PZx",
        "colab": {
          "base_uri": "https://localhost:8080/"
        },
        "outputId": "98eb3eb4-8acc-423c-f3e3-5d3776489463"
      },
      "execution_count": null,
      "outputs": [
        {
          "output_type": "stream",
          "name": "stdout",
          "text": [
            "Accuracy: 0.999\n",
            "Precision: 0.926\n",
            "Recall: 0.845\n",
            "F1: 0.884\n",
            "Confusion matrix: \n",
            "[[89136    20]\n",
            " [   46   251]]\n"
          ]
        }
      ]
    },
    {
      "cell_type": "code",
      "source": [
        "y_pred_proba = xgb.predict_proba(X_test)[:, 1]\n",
        "\n",
        "# Calculate AUC\n",
        "auc = roc_auc_score(y_test, y_pred_proba)\n",
        "print(f\"AUC: {auc}\")"
      ],
      "metadata": {
        "colab": {
          "base_uri": "https://localhost:8080/"
        },
        "id": "cpzITe51rDHY",
        "outputId": "6d20a2fe-e3c3-41d4-ec77-325683948781"
      },
      "execution_count": null,
      "outputs": [
        {
          "output_type": "stream",
          "name": "stdout",
          "text": [
            "AUC: 0.9938411399502074\n"
          ]
        }
      ]
    },
    {
      "cell_type": "code",
      "source": [
        "#Create confusion matrix\n",
        "cm = confusion_matrix(y_test, y_pred)\n",
        "disp = ConfusionMatrixDisplay(confusion_matrix=cm)\n",
        "disp = disp.plot(cmap=\"Blues\")\n",
        "plt.title('Standard XGBoost Confusion Matrix')\n",
        "plt.show()"
      ],
      "metadata": {
        "colab": {
          "base_uri": "https://localhost:8080/",
          "height": 472
        },
        "id": "FtMPjZPurIIH",
        "outputId": "8190a21b-1235-4e7f-b110-d369c929060e"
      },
      "execution_count": null,
      "outputs": [
        {
          "output_type": "display_data",
          "data": {
            "text/plain": [
              "<Figure size 640x480 with 2 Axes>"
            ],
            "image/png": "[encoded data removed]"
          },
          "metadata": {}
        }
      ]
    },
    {
      "cell_type": "code",
      "source": [
        "features = X.columns\n",
        "\n",
        "# get the feature importance from the XGBoost model\n",
        "xgb_importance = xgb.feature_importances_\n",
        "\n",
        "# sort the features by importance in descending order for the XGBoost model\n",
        "xgb_sorted_features = sorted(zip(features, xgb_importance), key=lambda x: x[1], reverse=True)\n",
        "\n",
        "# create a data frame of the feature importance for the XGBoost model\n",
        "xgb_df = pd.DataFrame(xgb_sorted_features, columns=[\"feature\", \"importance\"])\n",
        "\n",
        "# plot the feature importance for the XGBoost model\n",
        "xgb_df.plot(kind=\"bar\", x=\"feature\", y=\"importance\", title=\"XGBoost feature importance\", figsize=(20,10))\n",
        "plt.show()\n"
      ],
      "metadata": {
        "colab": {
          "base_uri": "https://localhost:8080/",
          "height": 657
        },
        "id": "EM_le6omv2V0",
        "outputId": "bfb3b5a3-853e-4434-f42b-1cc3fb7b30c2"
      },
      "execution_count": null,
      "outputs": [
        {
          "output_type": "display_data",
          "data": {
            "text/plain": [
              "<Figure size 2000x1000 with 1 Axes>"
            ],
            "image/png": "[encoded data removed]"
          },
          "metadata": {}
        }
      ]
    },
    {
      "cell_type": "markdown",
      "source": [
        "## Weighted XGBoost"
      ],
      "metadata": {
        "id": "DCZSHuN0sMgG"
      }
    },
    {
      "cell_type": "code",
      "source": [
        "# split data into training and testing sets\n",
        "X_train, X_test, y_train, y_test = train_test_split(X_scaled, y, test_size=0.3, random_state=42, stratify=y)\n",
        "\n",
        "# calculate the scale_pos_weight value\n",
        "counter = Counter(y_train)\n",
        "ratio = counter[0] / counter[1]\n",
        "# alternatively, use a heuristic value\n",
        "# ratio = np.sqrt(counter[0] / counter[1])\n",
        "\n",
        "# create XGBClassifier object with desired parameters\n",
        "xgb = XGBClassifier(n_estimators=100, learning_rate=0.1, max_depth=3, random_state=42, scale_pos_weight=ratio)\n",
        "\n",
        "# fit XGBClassifier to training set\n",
        "xgb.fit(X_train, y_train)\n",
        "\n",
        "# predict on testing set\n",
        "y_pred = xgb.predict(X_test)\n",
        "\n",
        "# evaluate the model using various metrics\n",
        "print(f\"Accuracy: {accuracy_score(y_test, y_pred):.3f}\")\n",
        "print(f\"Precision: {precision_score(y_test, y_pred):.3f}\")\n",
        "print(f\"Recall: {recall_score(y_test, y_pred):.3f}\")\n",
        "print(f\"F1: {f1_score(y_test, y_pred):.3f}\")\n",
        "print(f\"Confusion matrix: \\n{confusion_matrix(y_test, y_pred)}\")"
      ],
      "metadata": {
        "colab": {
          "base_uri": "https://localhost:8080/"
        },
        "id": "651weAxMroNJ",
        "outputId": "cfa3c2b8-394f-4e4a-d677-24d2b6d6e894"
      },
      "execution_count": null,
      "outputs": [
        {
          "output_type": "stream",
          "name": "stdout",
          "text": [
            "Accuracy: 0.997\n",
            "Precision: 0.494\n",
            "Recall: 0.970\n",
            "F1: 0.655\n",
            "Confusion matrix: \n",
            "[[88861   295]\n",
            " [    9   288]]\n"
          ]
        }
      ]
    },
    {
      "cell_type": "code",
      "source": [
        "y_pred_proba = xgb.predict_proba(X_test)[:, 1]\n",
        "\n",
        "# Calculate AUC\n",
        "auc = roc_auc_score(y_test, y_pred_proba)\n",
        "print(f\"AUC: {auc}\")"
      ],
      "metadata": {
        "colab": {
          "base_uri": "https://localhost:8080/"
        },
        "id": "jzkoW3iSsjAO",
        "outputId": "fd1f53a8-6ad8-4f8a-9bbc-466df5f7b251"
      },
      "execution_count": null,
      "outputs": [
        {
          "output_type": "stream",
          "name": "stdout",
          "text": [
            "AUC: 0.9993628804533286\n"
          ]
        }
      ]
    },
    {
      "cell_type": "code",
      "source": [
        "#Create confusion matrix\n",
        "cm = confusion_matrix(y_test, y_pred)\n",
        "disp = ConfusionMatrixDisplay(confusion_matrix=cm)\n",
        "disp = disp.plot(cmap=\"Blues\")\n",
        "plt.title('Standard XGBoost Confusion Matrix')\n",
        "plt.show()"
      ],
      "metadata": {
        "colab": {
          "base_uri": "https://localhost:8080/",
          "height": 472
        },
        "id": "v0GYq2Jxska-",
        "outputId": "15f671fe-8ad8-4459-9efa-15e0adca21e0"
      },
      "execution_count": null,
      "outputs": [
        {
          "output_type": "display_data",
          "data": {
            "text/plain": [
              "<Figure size 640x480 with 2 Axes>"
            ],
            "image/png": "[encoded data removed]"
          },
          "metadata": {}
        }
      ]
    },
    {
      "cell_type": "markdown",
      "source": [
        "## XGBoost with SMOTE"
      ],
      "metadata": {
        "id": "5sItVrQZsspv"
      }
    },
    {
      "cell_type": "code",
      "source": [
        "# apply SMOTE to the training set\n",
        "sm = SMOTE()\n",
        "X_train_sm, y_train_sm = sm.fit_resample(X_scaled, y)\n",
        "\n",
        "# create XGBClassifier object with desired parameters\n",
        "xgb = XGBClassifier(n_estimators=100, learning_rate=0.1, max_depth=3, random_state=42)\n",
        "\n",
        "# fit XGBClassifier to the oversampled training set\n",
        "xgb.fit(X_train_sm, y_train_sm)\n",
        "\n",
        "# predict on the testing set\n",
        "y_pred = xgb.predict(X_test)\n",
        "\n",
        "# evaluate the model using various metrics\n",
        "print(f\"Accuracy: {accuracy_score(y_test, y_pred):.3f}\")\n",
        "print(f\"Precision: {precision_score(y_test, y_pred):.3f}\")\n",
        "print(f\"Recall: {recall_score(y_test, y_pred):.3f}\")\n",
        "print(f\"F1: {f1_score(y_test, y_pred):.3f}\")\n",
        "print(f\"Confusion matrix: \\n{confusion_matrix(y_test, y_pred)}\")"
      ],
      "metadata": {
        "colab": {
          "base_uri": "https://localhost:8080/"
        },
        "id": "NRHurcKGswC_",
        "outputId": "367cd3b7-f2da-4a0f-843f-f707db8cccd8"
      },
      "execution_count": null,
      "outputs": [
        {
          "output_type": "stream",
          "name": "stdout",
          "text": [
            "Accuracy: 0.997\n",
            "Precision: 0.518\n",
            "Recall: 0.993\n",
            "F1: 0.681\n",
            "Confusion matrix: \n",
            "[[88882   274]\n",
            " [    2   295]]\n"
          ]
        }
      ]
    },
    {
      "cell_type": "code",
      "source": [
        "y_pred_proba = xgb.predict_proba(X_test)[:, 1]\n",
        "\n",
        "# Calculate AUC\n",
        "auc = roc_auc_score(y_test, y_pred_proba)\n",
        "print(f\"AUC: {auc}\")"
      ],
      "metadata": {
        "colab": {
          "base_uri": "https://localhost:8080/"
        },
        "id": "t6EKCxpktgIu",
        "outputId": "7f7cf45a-a0b5-4504-b18c-43513ce76944"
      },
      "execution_count": null,
      "outputs": [
        {
          "output_type": "stream",
          "name": "stdout",
          "text": [
            "AUC: 0.9998062073469226\n"
          ]
        }
      ]
    },
    {
      "cell_type": "code",
      "source": [
        "#Create confusion matrix\n",
        "cm = confusion_matrix(y_test, y_pred)\n",
        "disp = ConfusionMatrixDisplay(confusion_matrix=cm)\n",
        "disp = disp.plot(cmap=\"Blues\")\n",
        "plt.title('Standard XGBoost Confusion Matrix')\n",
        "plt.show()"
      ],
      "metadata": {
        "colab": {
          "base_uri": "https://localhost:8080/",
          "height": 472
        },
        "id": "7hnGyIDDthZe",
        "outputId": "6ed00b98-cebc-4613-804c-ce440e4f6373"
      },
      "execution_count": null,
      "outputs": [
        {
          "output_type": "display_data",
          "data": {
            "text/plain": [
              "<Figure size 640x480 with 2 Axes>"
            ],
            "image/png": "[encoded data removed]"
          },
          "metadata": {}
        }
      ]
    }
  ]
}